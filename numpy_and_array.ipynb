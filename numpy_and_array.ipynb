{
  "nbformat": 4,
  "nbformat_minor": 0,
  "metadata": {
    "colab": {
      "provenance": [],
      "authorship_tag": "ABX9TyMTiSPvIK7tYw3SEuWYIP9G",
      "include_colab_link": true
    },
    "kernelspec": {
      "name": "python3",
      "display_name": "Python 3"
    },
    "language_info": {
      "name": "python"
    }
  },
  "cells": [
    {
      "cell_type": "markdown",
      "metadata": {
        "id": "view-in-github",
        "colab_type": "text"
      },
      "source": [
        "<a href=\"https://colab.research.google.com/github/s4bih/a/blob/main/numpy_and_array.ipynb\" target=\"_parent\"><img src=\"https://colab.research.google.com/assets/colab-badge.svg\" alt=\"Open In Colab\"/></a>"
      ]
    },
    {
      "cell_type": "code",
      "source": [
        "import numpy as np"
      ],
      "metadata": {
        "id": "kRvMgR7ywPOw"
      },
      "execution_count": 8,
      "outputs": []
    },
    {
      "cell_type": "code",
      "source": [
        "arr=np.array([1,32,4,135,223])\n",
        "print(arr)\n",
        "print(type(arr))\n",
        "print(\"data shape\",arr.shape)\n",
        "print(\"data dimension\",arr.ndim)\n",
        "print(\"data size\",arr.size)\n",
        "\n"
      ],
      "metadata": {
        "colab": {
          "base_uri": "https://localhost:8080/"
        },
        "id": "KNXBRDUWwSCQ",
        "outputId": "a26a558e-f71e-46db-d6e1-a2a7fbf6c6c7"
      },
      "execution_count": 11,
      "outputs": [
        {
          "output_type": "stream",
          "name": "stdout",
          "text": [
            "[  1  32   4 135 223]\n",
            "<class 'numpy.ndarray'>\n",
            "data shape (5,)\n",
            "data dimension 1\n",
            "data size 5\n",
            "data type int64\n"
          ]
        }
      ]
    },
    {
      "cell_type": "code",
      "source": [
        "c = np.array([[1,2,3], [4,5,6]])\n",
        "print(c)\n",
        "print(type(c))\n",
        "print(\"data shape\",c.shape)\n",
        "print(\"data dimension\",c.ndim)\n",
        "print(\"data size\",c.size)\n"
      ],
      "metadata": {
        "colab": {
          "base_uri": "https://localhost:8080/"
        },
        "id": "80HMOPNuxphZ",
        "outputId": "d5c09fce-a104-49cb-c0be-0b969c8bb4e2"
      },
      "execution_count": 12,
      "outputs": [
        {
          "output_type": "stream",
          "name": "stdout",
          "text": [
            "[[1 2 3]\n",
            " [4 5 6]]\n",
            "<class 'numpy.ndarray'>\n",
            "data shape (2, 3)\n",
            "data dimension 2\n",
            "data size 6\n"
          ]
        }
      ]
    },
    {
      "cell_type": "code",
      "source": [
        "characterarr=np.array([\"a\",\"b\",\"c\",\"d\"])\n",
        "print(characterarr)\n",
        "print(type(characterarr))\n",
        "print(\"data shape\",characterarr.shape)\n",
        "print(\"data dimension\",characterarr.ndim)\n",
        "print(\"data size\",characterarr.size)"
      ],
      "metadata": {
        "id": "iMvxbzOyyOiw"
      },
      "execution_count": null,
      "outputs": []
    },
    {
      "cell_type": "code",
      "source": [
        "x1 = np.random.randint(10, size=6) # One-dimensional array\n",
        "x2 = np.random.randint(10, size=(3, 4)) # Two-dimensional array\n",
        "x3 = np.random.randint(10, size=(3, 4, 5)) # Three-dimensional array\n",
        "print(x1)\n",
        "\n",
        "print(x2)\n",
        "\n",
        "print(x3)"
      ],
      "metadata": {
        "colab": {
          "base_uri": "https://localhost:8080/"
        },
        "id": "HCBUQC3bycFI",
        "outputId": "e210a88c-8119-4838-8566-92ec0708d244"
      },
      "execution_count": 19,
      "outputs": [
        {
          "output_type": "stream",
          "name": "stdout",
          "text": [
            "[4 5 7 1 0 1]\n",
            "[[3 1 9 8]\n",
            " [5 1 2 2]\n",
            " [4 2 7 0]]\n",
            "[[[3 1 2 1 5]\n",
            "  [5 9 1 6 3]\n",
            "  [2 0 6 9 0]\n",
            "  [1 5 6 5 2]]\n",
            "\n",
            " [[1 6 6 2 9]\n",
            "  [1 7 6 8 9]\n",
            "  [0 6 0 3 0]\n",
            "  [3 6 7 5 4]]\n",
            "\n",
            " [[0 9 9 6 6]\n",
            "  [4 7 6 8 8]\n",
            "  [8 1 2 0 6]\n",
            "  [4 3 2 5 7]]]\n"
          ]
        }
      ]
    },
    {
      "cell_type": "code",
      "source": [
        "arr=np.array([1,2,3,4,5],ndmin=5)\n",
        "print(arr)\n",
        "print(arr.ndim)\n",
        "print(arr.shape)\n",
        "print(arr.size)"
      ],
      "metadata": {
        "colab": {
          "base_uri": "https://localhost:8080/"
        },
        "id": "d1P50Q_1z9Ug",
        "outputId": "d6cc673d-521d-46ae-e9b9-cdc42054dfd7"
      },
      "execution_count": 20,
      "outputs": [
        {
          "output_type": "stream",
          "name": "stdout",
          "text": [
            "[[[[[1 2 3 4 5]]]]]\n",
            "5\n",
            "(1, 1, 1, 1, 5)\n",
            "5\n"
          ]
        }
      ]
    },
    {
      "cell_type": "code",
      "source": [
        "arr = np.array([1,2,3,4,5,6,7,8,9,10,11,12])\n",
        "print(arr[-1])"
      ],
      "metadata": {
        "colab": {
          "base_uri": "https://localhost:8080/"
        },
        "id": "oBTmcenb1CHw",
        "outputId": "664940f1-4c96-41e9-dc8a-3f3ab787e12f"
      },
      "execution_count": 21,
      "outputs": [
        {
          "output_type": "stream",
          "name": "stdout",
          "text": [
            "12\n"
          ]
        }
      ]
    },
    {
      "cell_type": "code",
      "source": [
        "print(arr[1:5])"
      ],
      "metadata": {
        "id": "NKXNqA6X1zt3"
      },
      "execution_count": null,
      "outputs": []
    },
    {
      "cell_type": "code",
      "source": [
        "print(arr[4:])\n",
        "print(arr[:4])\n",
        "print(arr[-3:-1])\n",
        "print(arr[2:5:3])"
      ],
      "metadata": {
        "colab": {
          "base_uri": "https://localhost:8080/"
        },
        "id": "o-LmmoOn13_W",
        "outputId": "a8f24986-5343-46b7-b8f3-5bc6e57fc482"
      },
      "execution_count": 22,
      "outputs": [
        {
          "output_type": "stream",
          "name": "stdout",
          "text": [
            "[ 5  6  7  8  9 10 11 12]\n",
            "[1 2 3 4]\n",
            "[10 11]\n",
            "[3]\n"
          ]
        }
      ]
    },
    {
      "cell_type": "code",
      "source": [
        "# prompt: buatkan saya array 2d isinya angka\n",
        "\n",
        "import numpy as np\n",
        "\n",
        "# Create a 2D array with random integers\n",
        "rows = 5  # Number of rows\n",
        "cols = 4   # Number of columns\n",
        "min_val = 1 # Minimum value\n",
        "max_val = 100 # Maximum value\n",
        "\n",
        "# Create a 2D array of the given size with random integers within the specified range\n",
        "two_d_array = np.random.randint(min_val, max_val + 1, size=(rows, cols))\n",
        "\n",
        "two_d_array"
      ],
      "metadata": {
        "colab": {
          "base_uri": "https://localhost:8080/"
        },
        "id": "nS8Fauf123v_",
        "outputId": "3d103b0c-f23b-43a2-d8a3-df4fe0ff0bdd"
      },
      "execution_count": 25,
      "outputs": [
        {
          "output_type": "execute_result",
          "data": {
            "text/plain": [
              "array([[12, 74, 17, 43],\n",
              "       [52, 93, 89, 51],\n",
              "       [69, 28, 35, 45],\n",
              "       [80, 73, 42, 58],\n",
              "       [42, 45, 55, 25]])"
            ]
          },
          "metadata": {},
          "execution_count": 25
        }
      ]
    }
  ]
}